{
 "cells": [
  {
   "cell_type": "code",
   "execution_count": null,
   "metadata": {},
   "outputs": [],
   "source": [
    "from preflibtools import io\n",
    "from matplotlib import pyplot as plt\n",
    "\n",
    "import numpy as np\n",
    "import networkx as nx\n",
    "import matplotlib as mpl\n",
    "import nsc\n",
    "  \n",
    "def plot_sc(voters, rank_maps, cand_map, counts):\n",
    "    num_cand = len(cand_map)\n",
    "    num_pairs = 0\n",
    "    ylabels = ['']\n",
    "    xlabels = list(map(lambda x: 'Vote '+ str(x) + '\\n(' + str(counts[x]) + ' times)', voters))\n",
    "    for a in range(num_cand):\n",
    "        for b in range(a + 1, num_cand):\n",
    "            ylabels.append(cand_map[a+1] + ' vs. ' + cand_map[b+1])\n",
    "            num_pairs = num_pairs + 1\n",
    "            prefer_a = []\n",
    "            prefer_b = []\n",
    "            for v_idx in range(len(voters)):\n",
    "                v = voters[v_idx]\n",
    "                if rank_maps[v][a+1] < rank_maps[v][b+1]: #candidates are indexed from 1\n",
    "                    prefer_a.append(v_idx)\n",
    "                else:\n",
    "                    prefer_b.append(v_idx)\n",
    "            plt.plot(prefer_a, np.full_like(prefer_a, num_pairs), 'ro', \n",
    "                     prefer_b, np.full_like(prefer_b, num_pairs), 'bo')\n",
    "    plt.xticks(np.arange(0, len(voters), 1.0), xlabels)\n",
    "    plt.yticks(np.arange(0, num_pairs + 2, 1.0), ylabels)\n",
    "    plt.axis('scaled')\n",
    "    plt.tight_layout()\n",
    "    fig = plt.gcf()\n",
    "    plt.show()\n",
    "    \n",
    "def main():\n",
    "  filename = input(\"Preference profile file: \")\n",
    "  input_file = open(filename, 'r')\n",
    "  cand_map, rank_maps, rank_map_counts, num_voters = io.read_election_file(input_file)\n",
    "  num_cand = len(cand_map)\n",
    "  solution, sc_path = nsc.solve(rank_maps, rank_map_counts, num_cand)\n",
    "  plot_sc(sc_path, rank_maps, cand_map, rank_map_counts)\n",
    "if __name__ == \"__main__\":\n",
    "  main()"
   ]
  },
  {
   "cell_type": "code",
   "execution_count": null,
   "metadata": {},
   "outputs": [],
   "source": []
  },
  {
   "cell_type": "code",
   "execution_count": null,
   "metadata": {},
   "outputs": [],
   "source": []
  }
 ],
 "metadata": {
  "kernelspec": {
   "display_name": "Python 3",
   "language": "python",
   "name": "python3"
  },
  "language_info": {
   "codemirror_mode": {
    "name": "ipython",
    "version": 3
   },
   "file_extension": ".py",
   "mimetype": "text/x-python",
   "name": "python",
   "nbconvert_exporter": "python",
   "pygments_lexer": "ipython3",
   "version": "3.6.4"
  }
 },
 "nbformat": 4,
 "nbformat_minor": 2
}
